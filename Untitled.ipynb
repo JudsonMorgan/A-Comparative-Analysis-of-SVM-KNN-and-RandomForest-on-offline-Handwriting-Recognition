{
 "cells": [
  {
   "cell_type": "markdown",
   "metadata": {},
   "source": [
    "## 1.0 Problem definition \n",
    "\n",
    "In this research, we want to evaluate three classification algorithm; SVM (Support Vector Machine), Random Forest classifier and KNearest Neighbor Classifier (KNN) to determine the classifier with the higher accuracy score.\n",
    "\n",
    "## 2.0 Data\n",
    "\n",
    "NIST Special Database 19\n",
    "\n",
    "we converted everything to numbers so as to fit properly to our machine learning model.\n",
    "\n",
    "***Data Dictionary***\n",
    "\n",
    "30 - 0, 31 - 1, 32 - 2, 33 - 3, 34 - 4, 35 - 6, 36 - 6, 37 - 7, 38 - 8, 39 - 9\n",
    "41 - A, ... , 49 - I, 4a - J, 4b - K, 4c - L, 4d - M, 4e - N, 4f - O\n",
    "50 - P, ... , 59 - Y, 5a - Z\n",
    "61 - a, ... , 69 - i, 6a - j, 6b - k, 6c - l, 6d - m, 6e - n, 6f - o\n",
    "70 - p, ... , 79 - y, 7a - z\n",
    "\n",
    "## 3.0 Features and Labels\n",
    "We intend to classificate the features from the labels..\n",
    "\n",
    "## 4.0 Evaluation of the models\n",
    "In this research we want to evaluate each of the models based on the accuracy score, precision score, f1_score and recall score. The model with the highest accuracy score will be used to implement the handwriting recognition system.\n",
    "\n",
    "## 5.0 Modelling and Experimentation\n",
    "We will train and test our data using the SVM, Random Forest and KNN machine learning classification algorithm.\n",
    "\n",
    "\n",
    "***References***\n",
    "https://www.youtube.com/watch?v=KTeVOb8gaD4 https://thesai.org/Downloads/Volume6No11/Paper_9-Handwriting_Word_Recognition_Based_on_SVM_Classifier.pdf https://www.youtube.com/watch?v=KTeVOb8gaD4 https://towardsdatascience.com/support-vector-machine-mnist-digit-classification-with-python-including-my-hand-written-digits-83d6eca7004a https://scikit-learn.org/stable/auto_examples/classification/plot_digits_classification.html"
   ]
  },
  {
   "cell_type": "code",
   "execution_count": 1,
   "metadata": {},
   "outputs": [],
   "source": [
    "## import libraries \n",
    "\n",
    "%matplotlib inline\n",
    "import numpy as np\n",
    "import pandas as pd\n",
    "import matplotlib.pyplot as plt\n",
    "from sklearn.neighbors import KNeighborsClassifier\n",
    "from sklearn.ensemble import RandomForestClassifier\n",
    "from sklearn.svm import SVC\n",
    "import os\n",
    "import pickle\n",
    "from sklearn import preprocessing\n",
    "from sklearn.metrics import precision_score, f1_score, recall_score\n",
    "from sklearn.metrics import confusion_matrix, accuracy_score, classification_report,plot_confusion_matrix\n",
    "from sklearn.utils.multiclass import unique_labels"
   ]
  },
  {
   "cell_type": "code",
   "execution_count": 2,
   "metadata": {},
   "outputs": [],
   "source": [
    "# import python string library\n",
    "from string import ascii_lowercase, ascii_uppercase\n",
    "alp = {}"
   ]
  },
  {
   "cell_type": "code",
   "execution_count": 3,
   "metadata": {},
   "outputs": [],
   "source": [
    "for i in range(10):\n",
    "    alp[str(30+i)] = i "
   ]
  },
  {
   "cell_type": "code",
   "execution_count": 4,
   "metadata": {},
   "outputs": [],
   "source": [
    "for i in range(9):\n",
    "    alp[str(41+i)] = ascii_uppercase[i]\n",
    "for i in range(10):\n",
    "    j = i+15\n",
    "    alp[str(50+i)] = ascii_uppercase[j]\n",
    "for i in range(9):\n",
    "    alp[str(61+i)] = ascii_lowercase[i]\n",
    "for i in range(10):\n",
    "    j = i + 15\n",
    "    alp[str(70+i)] = ascii_lowercase[j]\n",
    "alp['7a'] = 'z'\n",
    "alp['5a'] = 'Z'\n",
    "j=0\n",
    "for i in ['a', 'b' , 'c' ,'d' ,'e' ,'f']:\n",
    "    alp['4'+i] = ascii_uppercase[9+j]\n",
    "    j+=1\n",
    "j=0\n",
    "for i in ['a', 'b' , 'c' ,'d' ,'e' ,'f']:\n",
    "    alp['6'+i] = ascii_lowercase[9+j]\n",
    "    j+=1"
   ]
  },
  {
   "cell_type": "code",
   "execution_count": 5,
   "metadata": {},
   "outputs": [],
   "source": [
    "txt_files = os.listdir('dataset')"
   ]
  },
  {
   "cell_type": "code",
   "execution_count": 6,
   "metadata": {},
   "outputs": [],
   "source": [
    "x, y = [], []\n",
    "x_pt, y_pt = [], []\n",
    "n_pu = 1500\n",
    "n_pt = 100\n",
    "for file in txt_files:\n",
    "    temp_arr = np.loadtxt('dataset/' + file, delimiter=' ')\n",
    "    #indx = np.random.choice(temp_arr.shape[0], n_pu + n_pt, replace=False)\n",
    "    x.append(temp_arr[:n_pu])\n",
    "    y.append([file[:2]] * n_pu)\n",
    "    x_pt.append(temp_arr[n_pu:n_pu + n_pt])\n",
    "    y_pt.append([file[:2]] * n_pt)\n",
    "x = np.array(x)\n",
    "y = np.array(y)\n",
    "\n",
    "x_pt = np.array(x_pt)\n",
    "y_pt = np.array(y_pt)"
   ]
  },
  {
   "cell_type": "code",
   "execution_count": 7,
   "metadata": {},
   "outputs": [],
   "source": [
    "x_pt, y_pt = [], []\n",
    "n_pt = 100\n",
    "for file in txt_files:\n",
    "    temp_arr = np.loadtxt('dataset/'+file, delimiter=' ')\n",
    "    indx = np.random.choice(temp_arr.shape[0], n_pt, replace=False)\n",
    "    x_pt.append(temp_arr[indx[:n_pt]])\n",
    "    y_pt.append([file[:2]]*n_pt)\n",
    "x_pt = np.array(x_pt)\n",
    "y_pt = np.array(y_pt)"
   ]
  },
  {
   "cell_type": "code",
   "execution_count": 8,
   "metadata": {},
   "outputs": [
    {
     "data": {
      "text/plain": [
       "((62, 100, 144), (62, 100))"
      ]
     },
     "execution_count": 8,
     "metadata": {},
     "output_type": "execute_result"
    }
   ],
   "source": [
    "x_pt.shape, y_pt.shape"
   ]
  },
  {
   "cell_type": "code",
   "execution_count": 9,
   "metadata": {},
   "outputs": [],
   "source": [
    "y_pt = y_pt.reshape(y_pt.shape[0]*y_pt.shape[1])\n",
    "x_pt = x_pt.reshape(x_pt.shape[0]*x_pt.shape[1], x_pt.shape[2])\n",
    "x_pt = preprocessing.scale(x_pt)"
   ]
  },
  {
   "cell_type": "markdown",
   "metadata": {},
   "source": [
    "### Modelling and Experimentaion"
   ]
  },
  {
   "cell_type": "code",
   "execution_count": 10,
   "metadata": {},
   "outputs": [],
   "source": [
    "models = {\"SVM\" : SVC(),\n",
    "         \"RandomForest Classifier\" : RandomForestClassifier(),\n",
    "         \"KNN\" : KNeighborsClassifier()}\n",
    "\n",
    "#random seed\n",
    "np.random.seed(42)\n",
    "# create a function\n",
    "def fit_and_score(models,x_pt,y_pt):\n",
    "    \"\"\"\n",
    "    to fit and score our machine learning models on our data.\n",
    "    x_pt: training data with no labels\n",
    "    x_pt: test data with no labels\n",
    "    y_pt: training data with labels\n",
    "    y_pt: test data with labels\n",
    "    \n",
    "    \"\"\"\n",
    "    # an empty dictionary to return the model scores\n",
    "    model_score = {}\n",
    "    #looping through the models in the dictionary\n",
    "    for name, model in models.items():\n",
    "        model.fit(x_pt,y_pt)\n",
    "        model_score[name] = model.score(x_pt,y_pt)\n",
    "    return model_score"
   ]
  },
  {
   "cell_type": "code",
   "execution_count": 11,
   "metadata": {},
   "outputs": [
    {
     "data": {
      "text/plain": [
       "{'SVM': 0.8508064516129032,\n",
       " 'RandomForest Classifier': 1.0,\n",
       " 'KNN': 0.6764516129032258}"
      ]
     },
     "execution_count": 11,
     "metadata": {},
     "output_type": "execute_result"
    }
   ],
   "source": [
    "model_score = fit_and_score(models,x_pt,y_pt)\n",
    "model_score"
   ]
  },
  {
   "cell_type": "markdown",
   "metadata": {},
   "source": [
    "### Experimentation\n",
    "We are aware that a model baseline score is not always the best accuracy it can achieve on the test data. Hence, our major focus on experimentation is trying to carryout an hyperparameter tuning on the KNN and SVM models respectively. Since we have got a 100% accuracy for the Random Forest classifier.\n",
    "\n",
    "\n",
    "#### Hyperparameter tuning"
   ]
  },
  {
   "cell_type": "code",
   "execution_count": 17,
   "metadata": {},
   "outputs": [
    {
     "name": "stdout",
     "output_type": "stream",
     "text": [
      "The accuracy score of the SVM classifier is: 97.92%\n"
     ]
    }
   ],
   "source": [
    "### Initially we got an accuracy of 85% for the SVM classifiier, on carrying out hyperparameter tuning on the estimator by setting the values of C and gamma to 1.0 and 0.1 respectively, we got an acurracy score of 99.6%\n",
    "np.random.seed(42)\n",
    "clf = SVC(C=100,\n",
    "          kernel='rbf',\n",
    "         gamma = 0.001)\n",
    "clf.fit(x_pt,y_pt)\n",
    "clf.score(x_pt,y_pt)\n",
    "y_preds_1 = clf.predict(x_pt)\n",
    "print(f\"The accuracy score of the SVM classifier is: {accuracy_score(y_pt,y_preds_1)*100:.2f}%\")\n"
   ]
  },
  {
   "cell_type": "code",
   "execution_count": 19,
   "metadata": {},
   "outputs": [
    {
     "name": "stdout",
     "output_type": "stream",
     "text": [
      "The accuracy score of the KNN classifier on the test data is : 67.65%\n"
     ]
    }
   ],
   "source": [
    "## tuning the KNN model\n",
    "np.random.seed(42)\n",
    "KNN = KNeighborsClassifier(leaf_size=60)\n",
    "KNN.fit(x_pt,y_pt)\n",
    "y_preds_2 = KNN.predict(x_pt)\n",
    "print(f\"The accuracy score of the KNN classifier on the test data is : {accuracy_score(y_pt,y_preds_2)*100:.2f}%\")"
   ]
  },
  {
   "cell_type": "code",
   "execution_count": 20,
   "metadata": {},
   "outputs": [
    {
     "name": "stdout",
     "output_type": "stream",
     "text": [
      "The accuracy score of the Random Forest Classifier is: 100.00%\n"
     ]
    }
   ],
   "source": [
    "np.random.seed(42)\n",
    "RFC = RandomForestClassifier()\n",
    "RFC.fit(x_pt,y_pt)\n",
    "y_preds_3 = RFC.predict(x_pt)\n",
    "print(f\"The accuracy score of the Random Forest Classifier is: {accuracy_score(y_pt,y_preds_3)*100:.2f}%\")"
   ]
  },
  {
   "cell_type": "markdown",
   "metadata": {},
   "source": [
    "## comparing the model in a pandas dataframe and visualizing the model score"
   ]
  },
  {
   "cell_type": "code",
   "execution_count": 21,
   "metadata": {},
   "outputs": [
    {
     "data": {
      "text/html": [
       "<div>\n",
       "<style scoped>\n",
       "    .dataframe tbody tr th:only-of-type {\n",
       "        vertical-align: middle;\n",
       "    }\n",
       "\n",
       "    .dataframe tbody tr th {\n",
       "        vertical-align: top;\n",
       "    }\n",
       "\n",
       "    .dataframe thead th {\n",
       "        text-align: right;\n",
       "    }\n",
       "</style>\n",
       "<table border=\"1\" class=\"dataframe\">\n",
       "  <thead>\n",
       "    <tr style=\"text-align: right;\">\n",
       "      <th></th>\n",
       "      <th>SVM</th>\n",
       "      <th>RandomForest Classifier</th>\n",
       "      <th>KNN</th>\n",
       "    </tr>\n",
       "  </thead>\n",
       "  <tbody>\n",
       "    <tr>\n",
       "      <th>Accuracy_score</th>\n",
       "      <td>0.850806</td>\n",
       "      <td>1.0</td>\n",
       "      <td>0.676452</td>\n",
       "    </tr>\n",
       "  </tbody>\n",
       "</table>\n",
       "</div>"
      ],
      "text/plain": [
       "                     SVM  RandomForest Classifier       KNN\n",
       "Accuracy_score  0.850806                      1.0  0.676452"
      ]
     },
     "execution_count": 21,
     "metadata": {},
     "output_type": "execute_result"
    }
   ],
   "source": [
    "compare_model = pd.DataFrame(model_score,\n",
    "                            index=[\"Accuracy_score\"])\n",
    "compare_model"
   ]
  },
  {
   "cell_type": "code",
   "execution_count": 22,
   "metadata": {},
   "outputs": [
    {
     "data": {
      "image/png": "[encoded data removed]",
      "text/plain": [
       "<Figure size 432x288 with 1 Axes>"
      ]
     },
     "metadata": {
      "needs_background": "light"
     },
     "output_type": "display_data"
    }
   ],
   "source": [
    "#visual view of the accuracy scores\n",
    "compare_model.T.plot.bar();\n",
    "\n",
    "#customize plots\n",
    "plt.title(\"Classification models comparison\")\n",
    "plt.xlabel(\"Models\")\n",
    "plt.ylabel(\"Accuracy score\")\n",
    "plt.xticks(rotation=1);"
   ]
  },
  {
   "cell_type": "markdown",
   "metadata": {},
   "source": [
    "### Saving and loading our model using `pickle`"
   ]
  },
  {
   "cell_type": "code",
   "execution_count": 23,
   "metadata": {},
   "outputs": [
    {
     "data": {
      "text/plain": [
       "array([[ 0.17663426,  0.27965374,  0.37731635, ...,  0.33847736,\n",
       "         0.24648061,  0.16436653],\n",
       "       [ 0.17663426,  0.27965374,  0.28134649, ...,  0.2977646 ,\n",
       "         0.24648061,  0.16436653],\n",
       "       [ 0.12917662,  0.25370912,  0.35812238, ...,  0.33847736,\n",
       "         0.24648061,  0.16436653],\n",
       "       ...,\n",
       "       [ 0.12917662,  0.27965374,  0.37731635, ...,  0.31812098,\n",
       "         0.13497127, -0.05975322],\n",
       "       [ 0.17663426,  0.27965374,  0.37731635, ...,  0.33847736,\n",
       "         0.24648061,  0.16436653],\n",
       "       [ 0.17663426,  0.2277645 ,  0.30054046, ...,  0.33847736,\n",
       "         0.24648061,  0.16436653]])"
      ]
     },
     "execution_count": 23,
     "metadata": {},
     "output_type": "execute_result"
    }
   ],
   "source": [
    "x_pt"
   ]
  },
  {
   "cell_type": "code",
   "execution_count": 24,
   "metadata": {},
   "outputs": [],
   "source": [
    "save_model = pickle.dump(RFC,open(\"RandomForestModel.pkl\",\"wb\"))"
   ]
  },
  {
   "cell_type": "code",
   "execution_count": 51,
   "metadata": {},
   "outputs": [
    {
     "data": {
      "text/plain": [
       "RandomForestClassifier()"
      ]
     },
     "execution_count": 51,
     "metadata": {},
     "output_type": "execute_result"
    }
   ],
   "source": [
    "#load the model\n",
    "loaded_model = pickle.load(open(\"RandomForestModel.pkl\",\"rb\"))\n",
    "loaded_model"
   ]
  },
  {
   "cell_type": "code",
   "execution_count": 52,
   "metadata": {},
   "outputs": [
    {
     "name": "stdout",
     "output_type": "stream",
     "text": [
      "[[100   0   0 ...   0   0   0]\n",
      " [  0 100   0 ...   0   0   0]\n",
      " [  0   0 100 ...   0   0   0]\n",
      " ...\n",
      " [  0   0   0 ... 100   0   0]\n",
      " [  0   0   0 ...   0 100   0]\n",
      " [  0   0   0 ...   0   0 100]]\n"
     ]
    }
   ],
   "source": [
    "#print the confusion matrix of the model\n",
    "print(confusion_matrix(y_pt,y_preds_3,labels=list(alp.keys())))"
   ]
  },
  {
   "cell_type": "code",
   "execution_count": 54,
   "metadata": {},
   "outputs": [
    {
     "name": "stdout",
     "output_type": "stream",
     "text": [
      "              precision    recall  f1-score   support\n",
      "\n",
      "          30       1.00      1.00      1.00       100\n",
      "          31       1.00      1.00      1.00       100\n",
      "          32       1.00      1.00      1.00       100\n",
      "          33       1.00      1.00      1.00       100\n",
      "          34       1.00      1.00      1.00       100\n",
      "          35       1.00      1.00      1.00       100\n",
      "          36       1.00      1.00      1.00       100\n",
      "          37       1.00      1.00      1.00       100\n",
      "          38       1.00      1.00      1.00       100\n",
      "          39       1.00      1.00      1.00       100\n",
      "          41       1.00      1.00      1.00       100\n",
      "          42       1.00      1.00      1.00       100\n",
      "          43       1.00      1.00      1.00       100\n",
      "          44       1.00      1.00      1.00       100\n",
      "          45       1.00      1.00      1.00       100\n",
      "          46       1.00      1.00      1.00       100\n",
      "          47       1.00      1.00      1.00       100\n",
      "          48       1.00      1.00      1.00       100\n",
      "          49       1.00      1.00      1.00       100\n",
      "          4a       1.00      1.00      1.00       100\n",
      "          4b       1.00      1.00      1.00       100\n",
      "          4c       1.00      1.00      1.00       100\n",
      "          4d       1.00      1.00      1.00       100\n",
      "          4e       1.00      1.00      1.00       100\n",
      "          4f       1.00      1.00      1.00       100\n",
      "          50       1.00      1.00      1.00       100\n",
      "          51       1.00      1.00      1.00       100\n",
      "          52       1.00      1.00      1.00       100\n",
      "          53       1.00      1.00      1.00       100\n",
      "          54       1.00      1.00      1.00       100\n",
      "          55       1.00      1.00      1.00       100\n",
      "          56       1.00      1.00      1.00       100\n",
      "          57       1.00      1.00      1.00       100\n",
      "          58       1.00      1.00      1.00       100\n",
      "          59       1.00      1.00      1.00       100\n",
      "          5a       1.00      1.00      1.00       100\n",
      "          61       1.00      1.00      1.00       100\n",
      "          62       1.00      1.00      1.00       100\n",
      "          63       1.00      1.00      1.00       100\n",
      "          64       1.00      1.00      1.00       100\n",
      "          65       1.00      1.00      1.00       100\n",
      "          66       1.00      1.00      1.00       100\n",
      "          67       1.00      1.00      1.00       100\n",
      "          68       1.00      1.00      1.00       100\n",
      "          69       1.00      1.00      1.00       100\n",
      "          6a       1.00      1.00      1.00       100\n",
      "          6b       1.00      1.00      1.00       100\n",
      "          6c       1.00      1.00      1.00       100\n",
      "          6d       1.00      1.00      1.00       100\n",
      "          6e       1.00      1.00      1.00       100\n",
      "          6f       1.00      1.00      1.00       100\n",
      "          70       1.00      1.00      1.00       100\n",
      "          71       1.00      1.00      1.00       100\n",
      "          72       1.00      1.00      1.00       100\n",
      "          73       1.00      1.00      1.00       100\n",
      "          74       1.00      1.00      1.00       100\n",
      "          75       1.00      1.00      1.00       100\n",
      "          76       1.00      1.00      1.00       100\n",
      "          77       1.00      1.00      1.00       100\n",
      "          78       1.00      1.00      1.00       100\n",
      "          79       1.00      1.00      1.00       100\n",
      "          7a       1.00      1.00      1.00       100\n",
      "\n",
      "    accuracy                           1.00      6200\n",
      "   macro avg       1.00      1.00      1.00      6200\n",
      "weighted avg       1.00      1.00      1.00      6200\n",
      "\n"
     ]
    }
   ],
   "source": [
    "#print classification report\n",
    "print(classification_report(y_pt,y_preds_3))"
   ]
  },
  {
   "cell_type": "code",
   "execution_count": null,
   "metadata": {},
   "outputs": [],
   "source": [
    "# plot the confusion matrix\n",
    "plot_confusion_matrix(RFC,x_pt,y_pt);"
   ]
  },
  {
   "cell_type": "code",
   "execution_count": 89,
   "metadata": {},
   "outputs": [],
   "source": [
    "from PIL import Image\n",
    "def reshape_function(im_array=None, filename=None):\n",
    "    height_arr = np.any(np.where(im_array == 0, True, False), axis=1)\n",
    "    width_arr = np.any(np.where(im_array == 0, True, False), axis=0)\n",
    "\n",
    "    height = np.argwhere(height_arr)\n",
    "    width = np.argwhere(width_arr)\n",
    "\n",
    "    left = width[0, 0]\n",
    "    right = width[-1, 0]\n",
    "    up = height[0, 0]\n",
    "    down = height[-1, 0]\n",
    "    if right - left > down - up:\n",
    "        if left > len(width_arr) - right:\n",
    "            left = len(width_arr) - right\n",
    "        else:\n",
    "            right = len(width_arr) - left\n",
    "        up = left\n",
    "        down = right\n",
    "    else:\n",
    "        if up > len(height_arr) - down:\n",
    "            up = len(height_arr) - down\n",
    "        else:\n",
    "            down = len(height_arr) - up\n",
    "        left = up\n",
    "        right = down\n",
    "\n",
    "    # left, upper, right, lower)\n",
    "    # array to change\n",
    "    im_strip = im_array[up:down + 1, left:right + 1]\n",
    "    im = Image.fromarray(im_strip)\n",
    "\n",
    "    # im.save(filename[:-4] + '.jpeg', \"JPEG\")\n",
    "\n",
    "    im = im.resize((12, 12), Image.ANTIALIAS)  # .save(filename[:-4] + '.jpeg', \"JPEG\")\n",
    "    return np.asarray(im).reshape(1, 12*12)"
   ]
  },
  {
   "cell_type": "code",
   "execution_count": 90,
   "metadata": {},
   "outputs": [],
   "source": [
    "png_files = os.listdir('converted')"
   ]
  },
  {
   "cell_type": "code",
   "execution_count": 70,
   "metadata": {},
   "outputs": [
    {
     "ename": "IndexError",
     "evalue": "index 0 is out of bounds for axis 0 with size 0",
     "output_type": "error",
     "traceback": [
      "\u001b[1;31m---------------------------------------------------------------------------\u001b[0m",
      "\u001b[1;31mIndexError\u001b[0m                                Traceback (most recent call last)",
      "\u001b[1;32m<ipython-input-70-87c16a7e51f2>\u001b[0m in \u001b[0;36m<module>\u001b[1;34m\u001b[0m\n\u001b[0;32m      3\u001b[0m \u001b[1;32mfor\u001b[0m \u001b[0mpng\u001b[0m \u001b[1;32min\u001b[0m \u001b[0mpng_files\u001b[0m\u001b[1;33m:\u001b[0m\u001b[1;33m\u001b[0m\u001b[1;33m\u001b[0m\u001b[0m\n\u001b[0;32m      4\u001b[0m     \u001b[0mim_array\u001b[0m \u001b[1;33m=\u001b[0m \u001b[0mnp\u001b[0m\u001b[1;33m.\u001b[0m\u001b[0masarray\u001b[0m\u001b[1;33m(\u001b[0m\u001b[0mImage\u001b[0m\u001b[1;33m.\u001b[0m\u001b[0mopen\u001b[0m\u001b[1;33m(\u001b[0m\u001b[1;34m'converted/'\u001b[0m\u001b[1;33m+\u001b[0m\u001b[0mpng\u001b[0m\u001b[1;33m)\u001b[0m\u001b[1;33m.\u001b[0m\u001b[0mconvert\u001b[0m\u001b[1;33m(\u001b[0m\u001b[1;34m'L'\u001b[0m\u001b[1;33m)\u001b[0m\u001b[1;33m)\u001b[0m\u001b[1;33m\u001b[0m\u001b[1;33m\u001b[0m\u001b[0m\n\u001b[1;32m----> 5\u001b[1;33m     \u001b[0mx_pv\u001b[0m\u001b[1;33m.\u001b[0m\u001b[0mappend\u001b[0m\u001b[1;33m(\u001b[0m\u001b[0mreshape_function\u001b[0m\u001b[1;33m(\u001b[0m\u001b[0mim_array\u001b[0m\u001b[1;33m)\u001b[0m\u001b[1;33m)\u001b[0m\u001b[1;33m\u001b[0m\u001b[1;33m\u001b[0m\u001b[0m\n\u001b[0m\u001b[0;32m      6\u001b[0m \u001b[0mx_pv\u001b[0m \u001b[1;33m=\u001b[0m \u001b[0mnp\u001b[0m\u001b[1;33m.\u001b[0m\u001b[0marray\u001b[0m\u001b[1;33m(\u001b[0m\u001b[0mx_pv\u001b[0m\u001b[1;33m)\u001b[0m\u001b[1;33m\u001b[0m\u001b[1;33m\u001b[0m\u001b[0m\n\u001b[0;32m      7\u001b[0m \u001b[0mx_pv\u001b[0m \u001b[1;33m=\u001b[0m \u001b[0mx_pv\u001b[0m\u001b[1;33m.\u001b[0m\u001b[0mreshape\u001b[0m\u001b[1;33m(\u001b[0m\u001b[0mx_pv\u001b[0m\u001b[1;33m.\u001b[0m\u001b[0mshape\u001b[0m\u001b[1;33m[\u001b[0m\u001b[1;36m0\u001b[0m\u001b[1;33m]\u001b[0m\u001b[1;33m*\u001b[0m\u001b[0mx_pv\u001b[0m\u001b[1;33m.\u001b[0m\u001b[0mshape\u001b[0m\u001b[1;33m[\u001b[0m\u001b[1;36m1\u001b[0m\u001b[1;33m]\u001b[0m\u001b[1;33m,\u001b[0m \u001b[0mx_pv\u001b[0m\u001b[1;33m.\u001b[0m\u001b[0mshape\u001b[0m\u001b[1;33m[\u001b[0m\u001b[1;36m2\u001b[0m\u001b[1;33m]\u001b[0m\u001b[1;33m)\u001b[0m\u001b[1;33m\u001b[0m\u001b[1;33m\u001b[0m\u001b[0m\n",
      "\u001b[1;32m<ipython-input-68-f98c7be09bdf>\u001b[0m in \u001b[0;36mreshape_function\u001b[1;34m(im_array, filename)\u001b[0m\n\u001b[0;32m      7\u001b[0m     \u001b[0mwidth\u001b[0m \u001b[1;33m=\u001b[0m \u001b[0mnp\u001b[0m\u001b[1;33m.\u001b[0m\u001b[0margwhere\u001b[0m\u001b[1;33m(\u001b[0m\u001b[0mwidth_arr\u001b[0m\u001b[1;33m)\u001b[0m\u001b[1;33m\u001b[0m\u001b[1;33m\u001b[0m\u001b[0m\n\u001b[0;32m      8\u001b[0m \u001b[1;33m\u001b[0m\u001b[0m\n\u001b[1;32m----> 9\u001b[1;33m     \u001b[0mleft\u001b[0m \u001b[1;33m=\u001b[0m \u001b[0mwidth\u001b[0m\u001b[1;33m[\u001b[0m\u001b[1;36m0\u001b[0m\u001b[1;33m,\u001b[0m \u001b[1;36m0\u001b[0m\u001b[1;33m]\u001b[0m\u001b[1;33m\u001b[0m\u001b[1;33m\u001b[0m\u001b[0m\n\u001b[0m\u001b[0;32m     10\u001b[0m     \u001b[0mright\u001b[0m \u001b[1;33m=\u001b[0m \u001b[0mwidth\u001b[0m\u001b[1;33m[\u001b[0m\u001b[1;33m-\u001b[0m\u001b[1;36m1\u001b[0m\u001b[1;33m,\u001b[0m \u001b[1;36m0\u001b[0m\u001b[1;33m]\u001b[0m\u001b[1;33m\u001b[0m\u001b[1;33m\u001b[0m\u001b[0m\n\u001b[0;32m     11\u001b[0m     \u001b[0mup\u001b[0m \u001b[1;33m=\u001b[0m \u001b[0mheight\u001b[0m\u001b[1;33m[\u001b[0m\u001b[1;36m0\u001b[0m\u001b[1;33m,\u001b[0m \u001b[1;36m0\u001b[0m\u001b[1;33m]\u001b[0m\u001b[1;33m\u001b[0m\u001b[1;33m\u001b[0m\u001b[0m\n",
      "\u001b[1;31mIndexError\u001b[0m: index 0 is out of bounds for axis 0 with size 0"
     ]
    }
   ],
   "source": [
    "x_pv =[]\n",
    "png_files.sort()\n",
    "for png in png_files:\n",
    "    im_array = np.asarray(Image.open('converted/'+png).convert('L'))\n",
    "    x_pv.append(reshape_function(im_array))\n",
    "x_pv = np.array(x_pv)\n",
    "x_pv = x_pv.reshape(x_pv.shape[0]*x_pv.shape[1], x_pv.shape[2])\n",
    "x_pv = preprocessing.scale(x_pv)"
   ]
  },
  {
   "cell_type": "code",
   "execution_count": 34,
   "metadata": {},
   "outputs": [
    {
     "data": {
      "image/png": "[encoded data removed]",
      "text/plain": [
       "<Figure size 288x288 with 1 Axes>"
      ]
     },
     "metadata": {
      "needs_background": "light"
     },
     "output_type": "display_data"
    }
   ],
   "source": [
    "plt.rcParams[\"figure.figsize\"] = (4,4)\n",
    "for x in x_pv:\n",
    "    plt.imshow(x.reshape(12,12))\n",
    "    plt.show()"
   ]
  },
  {
   "cell_type": "code",
   "execution_count": 35,
   "metadata": {},
   "outputs": [
    {
     "ename": "ValueError",
     "evalue": "Found array with dim 3. Estimator expected <= 2.",
     "output_type": "error",
     "traceback": [
      "\u001b[1;31m---------------------------------------------------------------------------\u001b[0m",
      "\u001b[1;31mValueError\u001b[0m                                Traceback (most recent call last)",
      "\u001b[1;32m<ipython-input-35-9df906c3ff57>\u001b[0m in \u001b[0;36m<module>\u001b[1;34m\u001b[0m\n\u001b[1;32m----> 1\u001b[1;33m \u001b[0my_predict_2\u001b[0m \u001b[1;33m=\u001b[0m \u001b[0mclf\u001b[0m\u001b[1;33m.\u001b[0m\u001b[0mpredict\u001b[0m\u001b[1;33m(\u001b[0m\u001b[0mx_pv\u001b[0m\u001b[1;33m)\u001b[0m\u001b[1;33m\u001b[0m\u001b[1;33m\u001b[0m\u001b[0m\n\u001b[0m\u001b[0;32m      2\u001b[0m \u001b[0my_predict_2\u001b[0m\u001b[1;33m\u001b[0m\u001b[1;33m\u001b[0m\u001b[0m\n",
      "\u001b[1;32m~\\anaconda3\\lib\\site-packages\\sklearn\\svm\\_base.py\u001b[0m in \u001b[0;36mpredict\u001b[1;34m(self, X)\u001b[0m\n\u001b[0;32m    612\u001b[0m             \u001b[0my\u001b[0m \u001b[1;33m=\u001b[0m \u001b[0mnp\u001b[0m\u001b[1;33m.\u001b[0m\u001b[0margmax\u001b[0m\u001b[1;33m(\u001b[0m\u001b[0mself\u001b[0m\u001b[1;33m.\u001b[0m\u001b[0mdecision_function\u001b[0m\u001b[1;33m(\u001b[0m\u001b[0mX\u001b[0m\u001b[1;33m)\u001b[0m\u001b[1;33m,\u001b[0m \u001b[0maxis\u001b[0m\u001b[1;33m=\u001b[0m\u001b[1;36m1\u001b[0m\u001b[1;33m)\u001b[0m\u001b[1;33m\u001b[0m\u001b[1;33m\u001b[0m\u001b[0m\n\u001b[0;32m    613\u001b[0m         \u001b[1;32melse\u001b[0m\u001b[1;33m:\u001b[0m\u001b[1;33m\u001b[0m\u001b[1;33m\u001b[0m\u001b[0m\n\u001b[1;32m--> 614\u001b[1;33m             \u001b[0my\u001b[0m \u001b[1;33m=\u001b[0m \u001b[0msuper\u001b[0m\u001b[1;33m(\u001b[0m\u001b[1;33m)\u001b[0m\u001b[1;33m.\u001b[0m\u001b[0mpredict\u001b[0m\u001b[1;33m(\u001b[0m\u001b[0mX\u001b[0m\u001b[1;33m)\u001b[0m\u001b[1;33m\u001b[0m\u001b[1;33m\u001b[0m\u001b[0m\n\u001b[0m\u001b[0;32m    615\u001b[0m         \u001b[1;32mreturn\u001b[0m \u001b[0mself\u001b[0m\u001b[1;33m.\u001b[0m\u001b[0mclasses_\u001b[0m\u001b[1;33m.\u001b[0m\u001b[0mtake\u001b[0m\u001b[1;33m(\u001b[0m\u001b[0mnp\u001b[0m\u001b[1;33m.\u001b[0m\u001b[0masarray\u001b[0m\u001b[1;33m(\u001b[0m\u001b[0my\u001b[0m\u001b[1;33m,\u001b[0m \u001b[0mdtype\u001b[0m\u001b[1;33m=\u001b[0m\u001b[0mnp\u001b[0m\u001b[1;33m.\u001b[0m\u001b[0mintp\u001b[0m\u001b[1;33m)\u001b[0m\u001b[1;33m)\u001b[0m\u001b[1;33m\u001b[0m\u001b[1;33m\u001b[0m\u001b[0m\n\u001b[0;32m    616\u001b[0m \u001b[1;33m\u001b[0m\u001b[0m\n",
      "\u001b[1;32m~\\anaconda3\\lib\\site-packages\\sklearn\\svm\\_base.py\u001b[0m in \u001b[0;36mpredict\u001b[1;34m(self, X)\u001b[0m\n\u001b[0;32m    331\u001b[0m         \u001b[0my_pred\u001b[0m \u001b[1;33m:\u001b[0m \u001b[0mndarray\u001b[0m \u001b[0mof\u001b[0m \u001b[0mshape\u001b[0m \u001b[1;33m(\u001b[0m\u001b[0mn_samples\u001b[0m\u001b[1;33m,\u001b[0m\u001b[1;33m)\u001b[0m\u001b[1;33m\u001b[0m\u001b[1;33m\u001b[0m\u001b[0m\n\u001b[0;32m    332\u001b[0m         \"\"\"\n\u001b[1;32m--> 333\u001b[1;33m         \u001b[0mX\u001b[0m \u001b[1;33m=\u001b[0m \u001b[0mself\u001b[0m\u001b[1;33m.\u001b[0m\u001b[0m_validate_for_predict\u001b[0m\u001b[1;33m(\u001b[0m\u001b[0mX\u001b[0m\u001b[1;33m)\u001b[0m\u001b[1;33m\u001b[0m\u001b[1;33m\u001b[0m\u001b[0m\n\u001b[0m\u001b[0;32m    334\u001b[0m         \u001b[0mpredict\u001b[0m \u001b[1;33m=\u001b[0m \u001b[0mself\u001b[0m\u001b[1;33m.\u001b[0m\u001b[0m_sparse_predict\u001b[0m \u001b[1;32mif\u001b[0m \u001b[0mself\u001b[0m\u001b[1;33m.\u001b[0m\u001b[0m_sparse\u001b[0m \u001b[1;32melse\u001b[0m \u001b[0mself\u001b[0m\u001b[1;33m.\u001b[0m\u001b[0m_dense_predict\u001b[0m\u001b[1;33m\u001b[0m\u001b[1;33m\u001b[0m\u001b[0m\n\u001b[0;32m    335\u001b[0m         \u001b[1;32mreturn\u001b[0m \u001b[0mpredict\u001b[0m\u001b[1;33m(\u001b[0m\u001b[0mX\u001b[0m\u001b[1;33m)\u001b[0m\u001b[1;33m\u001b[0m\u001b[1;33m\u001b[0m\u001b[0m\n",
      "\u001b[1;32m~\\anaconda3\\lib\\site-packages\\sklearn\\svm\\_base.py\u001b[0m in \u001b[0;36m_validate_for_predict\u001b[1;34m(self, X)\u001b[0m\n\u001b[0;32m    464\u001b[0m         \u001b[1;32mif\u001b[0m \u001b[1;32mnot\u001b[0m \u001b[0mcallable\u001b[0m\u001b[1;33m(\u001b[0m\u001b[0mself\u001b[0m\u001b[1;33m.\u001b[0m\u001b[0mkernel\u001b[0m\u001b[1;33m)\u001b[0m\u001b[1;33m:\u001b[0m\u001b[1;33m\u001b[0m\u001b[1;33m\u001b[0m\u001b[0m\n\u001b[0;32m    465\u001b[0m             X = check_array(X, accept_sparse='csr', dtype=np.float64,\n\u001b[1;32m--> 466\u001b[1;33m                             order=\"C\", accept_large_sparse=False)\n\u001b[0m\u001b[0;32m    467\u001b[0m \u001b[1;33m\u001b[0m\u001b[0m\n\u001b[0;32m    468\u001b[0m         \u001b[1;32mif\u001b[0m \u001b[0mself\u001b[0m\u001b[1;33m.\u001b[0m\u001b[0m_sparse\u001b[0m \u001b[1;32mand\u001b[0m \u001b[1;32mnot\u001b[0m \u001b[0msp\u001b[0m\u001b[1;33m.\u001b[0m\u001b[0misspmatrix\u001b[0m\u001b[1;33m(\u001b[0m\u001b[0mX\u001b[0m\u001b[1;33m)\u001b[0m\u001b[1;33m:\u001b[0m\u001b[1;33m\u001b[0m\u001b[1;33m\u001b[0m\u001b[0m\n",
      "\u001b[1;32m~\\anaconda3\\lib\\site-packages\\sklearn\\utils\\validation.py\u001b[0m in \u001b[0;36minner_f\u001b[1;34m(*args, **kwargs)\u001b[0m\n\u001b[0;32m     71\u001b[0m                           FutureWarning)\n\u001b[0;32m     72\u001b[0m         \u001b[0mkwargs\u001b[0m\u001b[1;33m.\u001b[0m\u001b[0mupdate\u001b[0m\u001b[1;33m(\u001b[0m\u001b[1;33m{\u001b[0m\u001b[0mk\u001b[0m\u001b[1;33m:\u001b[0m \u001b[0marg\u001b[0m \u001b[1;32mfor\u001b[0m \u001b[0mk\u001b[0m\u001b[1;33m,\u001b[0m \u001b[0marg\u001b[0m \u001b[1;32min\u001b[0m \u001b[0mzip\u001b[0m\u001b[1;33m(\u001b[0m\u001b[0msig\u001b[0m\u001b[1;33m.\u001b[0m\u001b[0mparameters\u001b[0m\u001b[1;33m,\u001b[0m \u001b[0margs\u001b[0m\u001b[1;33m)\u001b[0m\u001b[1;33m}\u001b[0m\u001b[1;33m)\u001b[0m\u001b[1;33m\u001b[0m\u001b[1;33m\u001b[0m\u001b[0m\n\u001b[1;32m---> 73\u001b[1;33m         \u001b[1;32mreturn\u001b[0m \u001b[0mf\u001b[0m\u001b[1;33m(\u001b[0m\u001b[1;33m**\u001b[0m\u001b[0mkwargs\u001b[0m\u001b[1;33m)\u001b[0m\u001b[1;33m\u001b[0m\u001b[1;33m\u001b[0m\u001b[0m\n\u001b[0m\u001b[0;32m     74\u001b[0m     \u001b[1;32mreturn\u001b[0m \u001b[0minner_f\u001b[0m\u001b[1;33m\u001b[0m\u001b[1;33m\u001b[0m\u001b[0m\n\u001b[0;32m     75\u001b[0m \u001b[1;33m\u001b[0m\u001b[0m\n",
      "\u001b[1;32m~\\anaconda3\\lib\\site-packages\\sklearn\\utils\\validation.py\u001b[0m in \u001b[0;36mcheck_array\u001b[1;34m(array, accept_sparse, accept_large_sparse, dtype, order, copy, force_all_finite, ensure_2d, allow_nd, ensure_min_samples, ensure_min_features, estimator)\u001b[0m\n\u001b[0;32m    640\u001b[0m         \u001b[1;32mif\u001b[0m \u001b[1;32mnot\u001b[0m \u001b[0mallow_nd\u001b[0m \u001b[1;32mand\u001b[0m \u001b[0marray\u001b[0m\u001b[1;33m.\u001b[0m\u001b[0mndim\u001b[0m \u001b[1;33m>=\u001b[0m \u001b[1;36m3\u001b[0m\u001b[1;33m:\u001b[0m\u001b[1;33m\u001b[0m\u001b[1;33m\u001b[0m\u001b[0m\n\u001b[0;32m    641\u001b[0m             raise ValueError(\"Found array with dim %d. %s expected <= 2.\"\n\u001b[1;32m--> 642\u001b[1;33m                              % (array.ndim, estimator_name))\n\u001b[0m\u001b[0;32m    643\u001b[0m \u001b[1;33m\u001b[0m\u001b[0m\n\u001b[0;32m    644\u001b[0m         \u001b[1;32mif\u001b[0m \u001b[0mforce_all_finite\u001b[0m\u001b[1;33m:\u001b[0m\u001b[1;33m\u001b[0m\u001b[1;33m\u001b[0m\u001b[0m\n",
      "\u001b[1;31mValueError\u001b[0m: Found array with dim 3. Estimator expected <= 2."
     ]
    }
   ],
   "source": [
    "y_predict_2 = clf.predict(x_pv)\n",
    "y_predict_2"
   ]
  },
  {
   "cell_type": "code",
   "execution_count": 28,
   "metadata": {},
   "outputs": [
    {
     "name": "stdout",
     "output_type": "stream",
     "text": [
      "5\n",
      "V\n",
      "M\n",
      "s\n",
      "v\n",
      "e\n"
     ]
    }
   ],
   "source": [
    "for key in y_predict_2:\n",
    "    try:\n",
    "        print(alp[int(key)] )\n",
    "    except:\n",
    "        print(alp[key])"
   ]
  },
  {
   "cell_type": "code",
   "execution_count": null,
   "metadata": {},
   "outputs": [],
   "source": []
  }
 ],
 "metadata": {
  "kernelspec": {
   "display_name": "Python 3",
   "language": "python",
   "name": "python3"
  },
  "language_info": {
   "codemirror_mode": {
    "name": "ipython",
    "version": 3
   },
   "file_extension": ".py",
   "mimetype": "text/x-python",
   "name": "python",
   "nbconvert_exporter": "python",
   "pygments_lexer": "ipython3",
   "version": "3.7.6"
  }
 },
 "nbformat": 4,
 "nbformat_minor": 2
}
